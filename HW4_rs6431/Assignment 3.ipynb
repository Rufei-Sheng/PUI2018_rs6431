{
 "cells": [
  {
   "cell_type": "markdown",
   "metadata": {},
   "source": [
    "# Set Hypothesis"
   ]
  },
  {
   "cell_type": "markdown",
   "metadata": {},
   "source": [
    "Null hypothesis: The duration of a trip with the new bus route is same or longer than that with the original bus route. The significance level $p$= 0.05. \n",
    "\n",
    "Alternative hypothesis: The duration of a trip with the new bus route is significant shorter than that with the original bus route.\n",
    "\n",
    "$H_0$: $T_1$ $>=$ $T_2$\n",
    "\n",
    "$H_1$: $T_1$ < $T_2$\n",
    "\n",
    "$T_1$: the duration of the new bus route\n",
    "\n",
    "$T_2$: the duration of the original bus route\n",
    "\n",
    "\n",
    "$α$ = 0.05"
   ]
  },
  {
   "cell_type": "markdown",
   "metadata": {},
   "source": [
    "# Download Data"
   ]
  },
  {
   "cell_type": "code",
   "execution_count": 3,
   "metadata": {},
   "outputs": [],
   "source": [
    "from __future__ import print_function\n",
    "\n",
    "import os\n",
    "import pandas as pd\n",
    "import numpy as np"
   ]
  },
  {
   "cell_type": "code",
   "execution_count": 4,
   "metadata": {},
   "outputs": [
    {
     "name": "stdout",
     "output_type": "stream",
     "text": [
      "  % Total    % Received % Xferd  Average Speed   Time    Time     Time  Current\n",
      "                                 Dload  Upload   Total   Spent    Left  Speed\n",
      "100  1179  100  1179    0     0   7902      0 --:--:-- --:--:-- --:--:--  7912\n"
     ]
    }
   ],
   "source": [
    "!curl https://raw.githubusercontent.com/fedhere/PUI2018_fb55/master/Lab4_fb55/times.txt > NewBusTime.CSV"
   ]
  },
  {
   "cell_type": "code",
   "execution_count": 5,
   "metadata": {},
   "outputs": [],
   "source": [
    "!mv NewBusTime.CSV $PUIDATA"
   ]
  },
  {
   "cell_type": "code",
   "execution_count": 45,
   "metadata": {},
   "outputs": [
    {
     "name": "stdout",
     "output_type": "stream",
     "text": [
      "201502-citibike-tripdata.csv  201507-citibike-tripdata.csv  NewBusTime.CSV\r\n",
      "201502-citibike-tripdata.zip  201507-citibike-tripdata.zip  SATresults.CSV\r\n"
     ]
    }
   ],
   "source": [
    "!ls $PUIDATA"
   ]
  },
  {
   "cell_type": "markdown",
   "metadata": {},
   "source": [
    "# Calculate Z-test and analysis"
   ]
  },
  {
   "cell_type": "markdown",
   "metadata": {},
   "source": [
    "$\\mu_{pop}$=36\n",
    "\n",
    "$\\sigma_{pop}$ = 6"
   ]
  },
  {
   "cell_type": "code",
   "execution_count": 54,
   "metadata": {},
   "outputs": [],
   "source": [
    "BusTime = pd.read_csv('%s/NewBusTime.CSV'%os.getenv('PUIDATA'))\n",
    "value = BusTime.values"
   ]
  },
  {
   "cell_type": "code",
   "execution_count": 53,
   "metadata": {},
   "outputs": [
    {
     "name": "stdout",
     "output_type": "stream",
     "text": [
      "2.49594559226\n"
     ]
    }
   ],
   "source": [
    "mu_pop = 36\n",
    "sigma_pop = 6\n",
    "mu_sample = value.mean()\n",
    "N = len(BusTime)\n",
    "sqrtN = np.sqrt(N)\n",
    "Zscore = (mu_pop-mu_sample)/(sigma_pop/sqrtN)\n",
    "print(Zscore)"
   ]
  },
  {
   "cell_type": "markdown",
   "metadata": {},
   "source": [
    "The significance level $p$ = 0.05 is corresponding to two standard devistion (1.96). The Z-test results 2.5 is farther than 2 sigmas away from the original mean, which indicates that we have 95% confidence to say that the new bus route has same or longer duration than the original bus route is not true. So reject NULL hypothesis."
   ]
  },
  {
   "cell_type": "code",
   "execution_count": null,
   "metadata": {},
   "outputs": [],
   "source": []
  }
 ],
 "metadata": {
  "kernelspec": {
   "display_name": "PUI2016_Python3",
   "language": "python",
   "name": "pui2016_python3"
  },
  "language_info": {
   "codemirror_mode": {
    "name": "ipython",
    "version": 3
   },
   "file_extension": ".py",
   "mimetype": "text/x-python",
   "name": "python",
   "nbconvert_exporter": "python",
   "pygments_lexer": "ipython3",
   "version": "3.5.4"
  }
 },
 "nbformat": 4,
 "nbformat_minor": 2
}
